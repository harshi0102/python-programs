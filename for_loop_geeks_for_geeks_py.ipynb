{
  "nbformat": 4,
  "nbformat_minor": 0,
  "metadata": {
    "colab": {
      "provenance": [],
      "authorship_tag": "ABX9TyNhHB3IyzcTO/GnUgcucTM4",
      "include_colab_link": true
    },
    "kernelspec": {
      "name": "python3",
      "display_name": "Python 3"
    },
    "language_info": {
      "name": "python"
    }
  },
  "cells": [
    {
      "cell_type": "markdown",
      "metadata": {
        "id": "view-in-github",
        "colab_type": "text"
      },
      "source": [
        "<a href=\"https://colab.research.google.com/github/harshi0102/python-programs/blob/main/for_loop_geeks_for_geeks_py.ipynb\" target=\"_parent\"><img src=\"https://colab.research.google.com/assets/colab-badge.svg\" alt=\"Open In Colab\"/></a>"
      ]
    },
    {
      "cell_type": "markdown",
      "source": [
        "1.Make a list and add \"geeks\", \"for\" ,\"geeks\" in that list. You will need to print each element present in the list using for loop.\n",
        "\n",
        "steps:\n",
        "create a list and then add strings and then - use for loop and take i as an iterator method to print each element present in the list.\n",
        "and then print i at the end \n"
      ],
      "metadata": {
        "id": "m2BblIoEi_E9"
      }
    },
    {
      "cell_type": "code",
      "execution_count": 1,
      "metadata": {
        "colab": {
          "base_uri": "https://localhost:8080/"
        },
        "id": "M9R4EWVSi7I_",
        "outputId": "2b23a397-8a69-4d3f-9d04-99c074c8259b"
      },
      "outputs": [
        {
          "output_type": "stream",
          "name": "stdout",
          "text": [
            "geeks\n",
            "for\n",
            "geeks\n"
          ]
        }
      ],
      "source": [
        "l=[\"geeks\",\"for\",\"geeks\"]\n",
        "for i in l:\n",
        "  print(i)"
      ]
    },
    {
      "cell_type": "markdown",
      "source": [
        "print the list of characters present in the string \"banana\" using for loop.\n",
        "steps:\n",
        "we will take x as an iterator method to use for loop in order to print all the characters present in the string \"banana\".We will write this method - for x in \"banana\".\n",
        "then simply print(x)"
      ],
      "metadata": {
        "id": "pVKgKD_2kZUW"
      }
    },
    {
      "cell_type": "code",
      "source": [
        "for x in \"banana\":\n",
        "  print(x)"
      ],
      "metadata": {
        "colab": {
          "base_uri": "https://localhost:8080/"
        },
        "id": "48KGhj-xkWrg",
        "outputId": "701f5e4b-89bd-47a1-f632-d6d4af3165f0"
      },
      "execution_count": 2,
      "outputs": [
        {
          "output_type": "stream",
          "name": "stdout",
          "text": [
            "b\n",
            "a\n",
            "n\n",
            "a\n",
            "n\n",
            "a\n"
          ]
        }
      ]
    },
    {
      "cell_type": "markdown",
      "source": [
        "if we want to break the loop, we should use break statement\n",
        "create a list fruits with items, \"apple\", \"banana\", \"cherry\" and then print the items till banana using break statement, when x becomes equal to banana break the statement \n",
        "\n",
        "steps:\n",
        "create alist fruits with all the strings mentioned above\n",
        "use x as an iterator method like to write for x in fruits:\n",
        "then you can print out the x.\n",
        "print a control flow if condition when it becomes equal to x then print banana and break the loop\n"
      ],
      "metadata": {
        "id": "umikgJDdlK11"
      }
    },
    {
      "cell_type": "code",
      "source": [
        "fruits=[\"apple\",\"banana\",\"cherry\"]\n",
        "for x in fruits:\n",
        "  print(x)\n",
        "  if x==\"banana\":\n",
        "    break\n",
        "    "
      ],
      "metadata": {
        "colab": {
          "base_uri": "https://localhost:8080/"
        },
        "id": "0QFcU7MmmGxw",
        "outputId": "6c7d04c3-0e6d-43ba-f89c-70f7ede53566"
      },
      "execution_count": 4,
      "outputs": [
        {
          "output_type": "stream",
          "name": "stdout",
          "text": [
            "apple\n",
            "banana\n"
          ]
        }
      ]
    },
    {
      "cell_type": "markdown",
      "source": [
        "break is used to exit the loop now use break when print is used after the break or break is used before the print.\n",
        "create a fruits list=with fruit names=apple\",\"banana\",\"cherry\"\n",
        "use x as an iterator method to iterate for loop like for x in fruits:\n",
        "now use if condition to make it equal to banana as we want the loop to end when x becomes equal to banana\n",
        "now use break statement\n",
        "and then use print statement \n",
        "\n",
        "\n"
      ],
      "metadata": {
        "id": "Ontatt-Omu5D"
      }
    },
    {
      "cell_type": "code",
      "source": [
        "fruits=[\"apple\",\"banana\",\"cherry\"]\n",
        "for x in fruits:\n",
        "  if x==\"banana\": \n",
        "    break\n",
        "  print(x)\n"
      ],
      "metadata": {
        "colab": {
          "base_uri": "https://localhost:8080/"
        },
        "id": "QXBkhi9tnW56",
        "outputId": "93a7d012-7bfc-4377-f515-e6c31208fdc4"
      },
      "execution_count": 7,
      "outputs": [
        {
          "output_type": "stream",
          "name": "stdout",
          "text": [
            "apple\n"
          ]
        }
      ]
    },
    {
      "cell_type": "markdown",
      "source": [
        "continue statement in loop-\n",
        "print the program to not to print banana\n",
        "create a list of fruits=[\"apple\", \"banana\", \"cherry\"]\n",
        "then use x as an iterator method to use for loop like for x in fruits\n",
        "then print if condition which should be equal to banana \n",
        "then use continue because it will not print banana this way\n",
        "then we will print x "
      ],
      "metadata": {
        "id": "8Xkd_Trsn3CN"
      }
    },
    {
      "cell_type": "code",
      "source": [
        "fruits=[\"apple\",\"banana\",\"cherry\"]\n",
        "for x in fruits:\n",
        "  if x==\"banana\":\n",
        "    continue\n",
        "  print(x)\n"
      ],
      "metadata": {
        "colab": {
          "base_uri": "https://localhost:8080/"
        },
        "id": "2NOCPgT1ocnp",
        "outputId": "afd1a05a-3682-4cfe-bbe4-1256e6fdb5ab"
      },
      "execution_count": 13,
      "outputs": [
        {
          "output_type": "stream",
          "name": "stdout",
          "text": [
            "apple\n",
            "cherry\n"
          ]
        }
      ]
    },
    {
      "cell_type": "markdown",
      "source": [
        "Write a Python program that prints all the numbers from 0 to 6 except 3 and 6.\n",
        "\n",
        "Note : Use 'continue' statement.\n",
        "\n",
        "use iterator method like x to iterate for loop in a range of 6 like for x in range 6\n",
        "use if condition if it is equal to 3 or 6 then use continue statement after that and then print x using end statement \n",
        "\n",
        "and then print escape backspace slash also \n"
      ],
      "metadata": {
        "id": "HVwCZxyIpW7K"
      }
    },
    {
      "cell_type": "code",
      "source": [
        "for x in range(6):\n",
        "  if x==3 or x==6:\n",
        "    continue\n",
        "  print(x,end=' ')\n",
        "    \n",
        "print(\"\\n\")"
      ],
      "metadata": {
        "colab": {
          "base_uri": "https://localhost:8080/"
        },
        "id": "WMtxDBhLpoc_",
        "outputId": "f7c9da87-d6dc-4572-9e55-36128e1f8516"
      },
      "execution_count": 24,
      "outputs": [
        {
          "output_type": "stream",
          "name": "stdout",
          "text": [
            "0 1 2 4 5 \n",
            "\n"
          ]
        }
      ]
    }
  ]
}