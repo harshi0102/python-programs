{
  "nbformat": 4,
  "nbformat_minor": 0,
  "metadata": {
    "colab": {
      "provenance": [],
      "collapsed_sections": [],
      "authorship_tag": "ABX9TyNkuAsViCvAhfcy+Dm0aY+I",
      "include_colab_link": true
    },
    "kernelspec": {
      "name": "python3",
      "display_name": "Python 3"
    },
    "language_info": {
      "name": "python"
    }
  },
  "cells": [
    {
      "cell_type": "markdown",
      "metadata": {
        "id": "view-in-github",
        "colab_type": "text"
      },
      "source": [
        "<a href=\"https://colab.research.google.com/github/harshi0102/python-programs/blob/main/important_file_of_python_exercises.ipynb\" target=\"_parent\"><img src=\"https://colab.research.google.com/assets/colab-badge.svg\" alt=\"Open In Colab\"/></a>"
      ]
    },
    {
      "cell_type": "markdown",
      "source": [
        "Write a Python program to find those numbers which are divisible by 7 and multiple of 5, between 1500 and 2700 (both included).\n",
        "\n"
      ],
      "metadata": {
        "id": "Fgn7uIK91Dsc"
      }
    },
    {
      "cell_type": "code",
      "execution_count": null,
      "metadata": {
        "colab": {
          "base_uri": "https://localhost:8080/"
        },
        "id": "Wl4bu_ww1CqE",
        "outputId": "99b5e2f8-6208-46de-f310-28745c0a7cab"
      },
      "outputs": [
        {
          "output_type": "stream",
          "name": "stdout",
          "text": [
            "1505 1540 1575 1610 1645 1680 1715 1750 1785 1820 1855 1890 1925 1960 1995 2030 2065 2100 2135 2170 2205 2240 2275 2310 2345 2380 2415 2450 2485 2520 2555 2590 2625 2660 2695\n"
          ]
        }
      ],
      "source": [
        "n1=[]\n",
        "for x in range(1500,2701):\n",
        "  if x%7==0 and x%5==0:\n",
        "   n1.append(str(x))\n",
        "   \n",
        "   \n",
        "print(' '.join(n1))\n"
      ]
    },
    {
      "cell_type": "markdown",
      "source": [
        "Write a Python program to convert temperatures to and from celsius, fahrenheit [ Formula : c/5 = f-32/9 [ where c = temperature in celsius and f = temperature in fahrenheit ]\n",
        "Expected Output :\n",
        "60°C is 140 in Fahrenheit\n",
        "45°F is 7 in Celsius"
      ],
      "metadata": {
        "id": "mRaBIS0d2eD7"
      }
    },
    {
      "cell_type": "code",
      "source": [
        "temp=input(\"input the tempreature you like to convert?e.g.,45F,102C etc:)\")\n",
        "degree=int(temp[:-1])\n",
        "i_convention=temp[-1]\n",
        "\n",
        "if i_convention.upper()==\"C\":\n",
        "  result=int(round(9*degree) /5+32)\n",
        "  o_convention=\"Fahrenheit\"\n",
        "elif i_convention.upper()==\"F\":\n",
        "  result=int(round(degree-32)*5/9)\n",
        "  O_convention=\"Celsius\"\n",
        "else:\n",
        "  print(\"input prpoer convention.\")\n",
        "  quit()\n",
        " \n",
        "print(\"the tempreature in\",o_convention,\"is\",result,\"degrees\")\n"
      ],
      "metadata": {
        "colab": {
          "base_uri": "https://localhost:8080/"
        },
        "id": "iJ0H9pxa3FnK",
        "outputId": "b17a8dd0-bb30-4ad5-dd45-27d4abc22724"
      },
      "execution_count": null,
      "outputs": [
        {
          "output_type": "stream",
          "name": "stdout",
          "text": [
            "input the tempreature you like to convert?e.g.,45F,102C etc:)45F\n",
            "the tempreature in Celsius is 7 degrees\n"
          ]
        }
      ]
    },
    {
      "cell_type": "markdown",
      "source": [
        " Write a Python program to guess a number between 1 to 9\n",
        " "
      ],
      "metadata": {
        "id": "0bCyWwkm4b2U"
      }
    },
    {
      "cell_type": "code",
      "source": [
        "import random\n",
        "target_num,guess_num=random.randint(1,10), 0\n",
        "\n",
        "while target_num !=guess_num:\n",
        "  guess_num=int(input(\"guess a number between 1 and 10 until you get it right:\"))\n",
        "\n",
        "print(\"well guessed\")\n"
      ],
      "metadata": {
        "colab": {
          "base_uri": "https://localhost:8080/"
        },
        "id": "bg0sl9eN4jLc",
        "outputId": "e8d0c7a2-0e51-49ce-c623-269a0d25ede9"
      },
      "execution_count": null,
      "outputs": [
        {
          "output_type": "stream",
          "name": "stdout",
          "text": [
            "guess a number between 1 and 10 until you get it right:6\n",
            "well guessed\n"
          ]
        }
      ]
    },
    {
      "cell_type": "markdown",
      "source": [
        "Write a Python program to construct the following pattern, using a nested for loop.   ![image.png](data:image/png;base64,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)"
      ],
      "metadata": {
        "id": "pmE4UaIn6dCx"
      }
    },
    {
      "cell_type": "code",
      "source": [
        "n=5;\n",
        "for i in range(n):\n",
        "  for j in range(i):\n",
        "      print('*',end=\"\")\n",
        "  print('')\n",
        "\n",
        "for i in range(n,0,-1):\n",
        "  for j in range(i):\n",
        "      print('*',end=\"\")\n",
        "  print('')     "
      ],
      "metadata": {
        "colab": {
          "base_uri": "https://localhost:8080/"
        },
        "id": "XByLO0Mc6s6L",
        "outputId": "a1dd2971-8ac1-4d78-a179-b26b4c7ede35"
      },
      "execution_count": null,
      "outputs": [
        {
          "output_type": "stream",
          "name": "stdout",
          "text": [
            "\n",
            "*\n",
            "**\n",
            "***\n",
            "****\n",
            "*****\n",
            "****\n",
            "***\n",
            "**\n",
            "*\n"
          ]
        }
      ]
    },
    {
      "cell_type": "markdown",
      "source": [
        "Write a Python program that accepts a word from the user and reverse it"
      ],
      "metadata": {
        "id": "uJ-5RBkb7xhZ"
      }
    },
    {
      "cell_type": "code",
      "source": [
        "word=input(\"input a word to reverse:\")\n",
        "for char in range(len(word) -1,-1,-1):\n",
        "  print(word[char],end=\"\")\n",
        "  print(\"\\n\")\n"
      ],
      "metadata": {
        "colab": {
          "base_uri": "https://localhost:8080/"
        },
        "id": "miqNvDNy7yfn",
        "outputId": "82c1069f-1218-4e39-8623-a48fa649f707"
      },
      "execution_count": null,
      "outputs": [
        {
          "output_type": "stream",
          "name": "stdout",
          "text": [
            "input a word to reverse:welcome\n",
            "e\n",
            "\n",
            "m\n",
            "\n",
            "o\n",
            "\n",
            "c\n",
            "\n",
            "l\n",
            "\n",
            "e\n",
            "\n",
            "w\n",
            "\n"
          ]
        }
      ]
    },
    {
      "cell_type": "markdown",
      "source": [
        "Write a Python program to count the number of even and odd numbers from a series of numbers"
      ],
      "metadata": {
        "id": "B_HNiKeo8dAW"
      }
    },
    {
      "cell_type": "code",
      "source": [
        "numbers=(1,2,3,4,5,6,7,8,9)# declaring the tuple\n",
        "count_odd=0\n",
        "count_even=0\n",
        "for x in numbers:\n",
        "  if not x%2:\n",
        "    count_even +=1\n",
        "  else:\n",
        "      count_odd +=1\n",
        "print(\"number of even numbers:\",count_even)\n",
        "print(\"number of odd numbers:\",count_odd)\n"
      ],
      "metadata": {
        "colab": {
          "base_uri": "https://localhost:8080/"
        },
        "id": "MHSd7ngW8eYB",
        "outputId": "0262d745-8bc1-4e0b-c1eb-d281245a6f9d"
      },
      "execution_count": null,
      "outputs": [
        {
          "output_type": "stream",
          "name": "stdout",
          "text": [
            "number of even numbers: 4\n",
            "number of odd numbers: 5\n"
          ]
        }
      ]
    },
    {
      "cell_type": "markdown",
      "source": [
        "Write a Python program that prints each item and its corresponding type from the following list.\n",
        "\n",
        "Sample List : datalist = [1452, 11.23, 1+2j, True, 'w3resource', (0, -1), [5, 12], {\"class\":'V', \"section\":'A'}]"
      ],
      "metadata": {
        "id": "1Dp8OZQR9QOW"
      }
    },
    {
      "cell_type": "code",
      "source": [
        "datalist=[1452,11.23,1+2j,True,'w3resource',(0,-1),[5,12],\n",
        "          {\"class\":'V',\"section\":'A'}]\n",
        "for item in datalist:\n",
        "  print(\"type of \",item,\"is\",type(item))\n",
        "\n"
      ],
      "metadata": {
        "colab": {
          "base_uri": "https://localhost:8080/"
        },
        "id": "rUklaNZo9RLu",
        "outputId": "a0eec0c4-2adc-4d5e-dbd2-7b8068620ac7"
      },
      "execution_count": null,
      "outputs": [
        {
          "output_type": "stream",
          "name": "stdout",
          "text": [
            "type of  1452 is <class 'int'>\n",
            "type of  11.23 is <class 'float'>\n",
            "type of  (1+2j) is <class 'complex'>\n",
            "type of  True is <class 'bool'>\n",
            "type of  w3resource is <class 'str'>\n",
            "type of  (0, -1) is <class 'tuple'>\n",
            "type of  [5, 12] is <class 'list'>\n",
            "type of  {'class': 'V', 'section': 'A'} is <class 'dict'>\n"
          ]
        }
      ]
    },
    {
      "cell_type": "markdown",
      "source": [
        "Write a Python program that prints all the numbers from 0 to 6 except 3 and 6."
      ],
      "metadata": {
        "id": "FQpIQeKp99dT"
      }
    },
    {
      "cell_type": "code",
      "source": [
        "for x in range(6):\n",
        "  if(x==3 or x==6):\n",
        "    continue\n",
        "  print(x,end=' ')\n",
        "print(\"\\n\")\n"
      ],
      "metadata": {
        "colab": {
          "base_uri": "https://localhost:8080/"
        },
        "id": "E2uxQLCR9_ze",
        "outputId": "c1dbc193-f4f7-4461-c9d1-1ca6d84f468a"
      },
      "execution_count": null,
      "outputs": [
        {
          "output_type": "stream",
          "name": "stdout",
          "text": [
            "0 1 2 4 5 \n",
            "\n"
          ]
        }
      ]
    },
    {
      "cell_type": "markdown",
      "source": [
        "Write a Python program to get the Fibonacci series between 0 to 50. "
      ],
      "metadata": {
        "id": "HjCm_GdG-4jZ"
      }
    },
    {
      "cell_type": "code",
      "source": [
        "x,y=0,1\n",
        "\n",
        "while y<50:\n",
        "  print(y)\n",
        "  x,y=y,x+y"
      ],
      "metadata": {
        "colab": {
          "base_uri": "https://localhost:8080/"
        },
        "id": "j0eCSD-5-5ND",
        "outputId": "604be362-b831-47df-eafd-6e462db6cd59"
      },
      "execution_count": null,
      "outputs": [
        {
          "output_type": "stream",
          "name": "stdout",
          "text": [
            "1\n",
            "1\n",
            "2\n",
            "3\n",
            "5\n",
            "8\n",
            "13\n",
            "21\n",
            "34\n"
          ]
        }
      ]
    },
    {
      "cell_type": "markdown",
      "source": [
        "Write a Python program which iterates the integers from 1 to 50. For multiples of three print \"Fizz\" instead of the number and for the multiples of five print \"Buzz\". For numbers which are multiples of both three and five print \"FizzBuzz\"."
      ],
      "metadata": {
        "id": "yOk9oDU4_YCG"
      }
    },
    {
      "cell_type": "code",
      "source": [
        "for fizzbuzz in range(51):\n",
        "  if fizzbuzz%3 ==0 and fizzbuzz % 5==0:\n",
        "    print(\"fizzbuzz\")\n",
        "    continue\n",
        "  elif fizzbuzz%3==0:\n",
        "      print(\"fizz\")\n",
        "      continue\n",
        "  elif fizzbuzz % 5==0:\n",
        "        print(\"buzz\")\n",
        "        continue\n",
        "  print(fizzbuzz)"
      ],
      "metadata": {
        "colab": {
          "base_uri": "https://localhost:8080/"
        },
        "id": "grcL6F6s_Y7P",
        "outputId": "64f13c5e-74b9-4371-eacb-8c7b29424fd9"
      },
      "execution_count": null,
      "outputs": [
        {
          "output_type": "stream",
          "name": "stdout",
          "text": [
            "fizzbuzz\n",
            "1\n",
            "2\n",
            "fizz\n",
            "4\n",
            "buzz\n",
            "fizz\n",
            "7\n",
            "8\n",
            "fizz\n",
            "buzz\n",
            "11\n",
            "fizz\n",
            "13\n",
            "14\n",
            "fizzbuzz\n",
            "16\n",
            "17\n",
            "fizz\n",
            "19\n",
            "buzz\n",
            "fizz\n",
            "22\n",
            "23\n",
            "fizz\n",
            "buzz\n",
            "26\n",
            "fizz\n",
            "28\n",
            "29\n",
            "fizzbuzz\n",
            "31\n",
            "32\n",
            "fizz\n",
            "34\n",
            "buzz\n",
            "fizz\n",
            "37\n",
            "38\n",
            "fizz\n",
            "buzz\n",
            "41\n",
            "fizz\n",
            "43\n",
            "44\n",
            "fizzbuzz\n",
            "46\n",
            "47\n",
            "fizz\n",
            "49\n",
            "buzz\n"
          ]
        }
      ]
    },
    {
      "cell_type": "markdown",
      "source": [
        "Write a Python program which takes two digits m (row) and n (column) as input and generates a two-dimensional array. The element value in the i-th row and j-th column of the array should be i*\n",
        "Note :\n",
        "i = 0,1.., m-1\n",
        "j = 0,1, n-1"
      ],
      "metadata": {
        "id": "L05b90A0AdRX"
      }
    },
    {
      "cell_type": "code",
      "source": [
        "row_num=int(input(\"input number of rows:\"))\n",
        "col_num=int(input(\"input number of columns\"))\n",
        "multi_list=[[0 for col in range(col_num)] for row in range(row_num)]\n",
        "\n",
        "for row in range(row_num):\n",
        "  for col in range(col_num):\n",
        "    multi_list[row][col]=row*col\n",
        "\n",
        "print(multi_list)"
      ],
      "metadata": {
        "colab": {
          "base_uri": "https://localhost:8080/"
        },
        "id": "yLmYXJCVAeTZ",
        "outputId": "59c24b3e-9bd9-441b-c5e5-bfbbf9a443e0"
      },
      "execution_count": null,
      "outputs": [
        {
          "output_type": "stream",
          "name": "stdout",
          "text": [
            "input number of rows:4\n",
            "input number of columns3\n",
            "[[0, 0, 0], [0, 1, 2], [0, 2, 4], [0, 3, 6]]\n"
          ]
        }
      ]
    },
    {
      "cell_type": "markdown",
      "source": [
        "Write a Python program that accepts a sequence of lines (blank line to terminate) as input and prints the lines as output (all characters in lower case)\n"
      ],
      "metadata": {
        "id": "vNo-dPLyBnFB"
      }
    },
    {
      "cell_type": "code",
      "source": [
        "#infinite loop \n",
        "lines=[]\n",
        "while True:\n",
        "  l=input()\n",
        "  if l:\n",
        "       lines.append(l.upper())\n",
        "  else:\n",
        "    break;\n",
        "\n",
        "for l in lines:\n",
        "  print(1)    "
      ],
      "metadata": {
        "colab": {
          "base_uri": "https://localhost:8080/",
          "height": 415
        },
        "id": "qEKNQ3hQBomS",
        "outputId": "5cce93eb-609e-4057-ad88-e421f946a950"
      },
      "execution_count": null,
      "outputs": [
        {
          "name": "stdout",
          "output_type": "stream",
          "text": [
            "python\n",
            "Python\n"
          ]
        },
        {
          "output_type": "error",
          "ename": "KeyboardInterrupt",
          "evalue": "ignored",
          "traceback": [
            "\u001b[0;31m---------------------------------------------------------------------------\u001b[0m",
            "\u001b[0;31mKeyboardInterrupt\u001b[0m                         Traceback (most recent call last)",
            "\u001b[0;32m<ipython-input-38-10355fccf7cf>\u001b[0m in \u001b[0;36m<module>\u001b[0;34m\u001b[0m\n\u001b[1;32m      1\u001b[0m \u001b[0mlines\u001b[0m\u001b[0;34m=\u001b[0m\u001b[0;34m[\u001b[0m\u001b[0;34m]\u001b[0m\u001b[0;34m\u001b[0m\u001b[0;34m\u001b[0m\u001b[0m\n\u001b[1;32m      2\u001b[0m \u001b[0;32mwhile\u001b[0m \u001b[0;32mTrue\u001b[0m\u001b[0;34m:\u001b[0m\u001b[0;34m\u001b[0m\u001b[0;34m\u001b[0m\u001b[0m\n\u001b[0;32m----> 3\u001b[0;31m   \u001b[0ml\u001b[0m\u001b[0;34m=\u001b[0m\u001b[0minput\u001b[0m\u001b[0;34m(\u001b[0m\u001b[0;34m)\u001b[0m\u001b[0;34m\u001b[0m\u001b[0;34m\u001b[0m\u001b[0m\n\u001b[0m\u001b[1;32m      4\u001b[0m   \u001b[0;32mif\u001b[0m \u001b[0ml\u001b[0m\u001b[0;34m:\u001b[0m\u001b[0;34m\u001b[0m\u001b[0;34m\u001b[0m\u001b[0m\n\u001b[1;32m      5\u001b[0m        \u001b[0mlines\u001b[0m\u001b[0;34m.\u001b[0m\u001b[0mappend\u001b[0m\u001b[0;34m(\u001b[0m\u001b[0ml\u001b[0m\u001b[0;34m.\u001b[0m\u001b[0mupper\u001b[0m\u001b[0;34m(\u001b[0m\u001b[0;34m)\u001b[0m\u001b[0;34m)\u001b[0m\u001b[0;34m\u001b[0m\u001b[0;34m\u001b[0m\u001b[0m\n",
            "\u001b[0;32m/usr/local/lib/python3.7/dist-packages/ipykernel/kernelbase.py\u001b[0m in \u001b[0;36mraw_input\u001b[0;34m(self, prompt)\u001b[0m\n\u001b[1;32m    861\u001b[0m             \u001b[0mself\u001b[0m\u001b[0;34m.\u001b[0m\u001b[0m_parent_ident\u001b[0m\u001b[0;34m,\u001b[0m\u001b[0;34m\u001b[0m\u001b[0;34m\u001b[0m\u001b[0m\n\u001b[1;32m    862\u001b[0m             \u001b[0mself\u001b[0m\u001b[0;34m.\u001b[0m\u001b[0m_parent_header\u001b[0m\u001b[0;34m,\u001b[0m\u001b[0;34m\u001b[0m\u001b[0;34m\u001b[0m\u001b[0m\n\u001b[0;32m--> 863\u001b[0;31m             \u001b[0mpassword\u001b[0m\u001b[0;34m=\u001b[0m\u001b[0;32mFalse\u001b[0m\u001b[0;34m,\u001b[0m\u001b[0;34m\u001b[0m\u001b[0;34m\u001b[0m\u001b[0m\n\u001b[0m\u001b[1;32m    864\u001b[0m         )\n\u001b[1;32m    865\u001b[0m \u001b[0;34m\u001b[0m\u001b[0m\n",
            "\u001b[0;32m/usr/local/lib/python3.7/dist-packages/ipykernel/kernelbase.py\u001b[0m in \u001b[0;36m_input_request\u001b[0;34m(self, prompt, ident, parent, password)\u001b[0m\n\u001b[1;32m    902\u001b[0m             \u001b[0;32mexcept\u001b[0m \u001b[0mKeyboardInterrupt\u001b[0m\u001b[0;34m:\u001b[0m\u001b[0;34m\u001b[0m\u001b[0;34m\u001b[0m\u001b[0m\n\u001b[1;32m    903\u001b[0m                 \u001b[0;31m# re-raise KeyboardInterrupt, to truncate traceback\u001b[0m\u001b[0;34m\u001b[0m\u001b[0;34m\u001b[0m\u001b[0;34m\u001b[0m\u001b[0m\n\u001b[0;32m--> 904\u001b[0;31m                 \u001b[0;32mraise\u001b[0m \u001b[0mKeyboardInterrupt\u001b[0m\u001b[0;34m(\u001b[0m\u001b[0;34m\"Interrupted by user\"\u001b[0m\u001b[0;34m)\u001b[0m \u001b[0;32mfrom\u001b[0m \u001b[0;32mNone\u001b[0m\u001b[0;34m\u001b[0m\u001b[0;34m\u001b[0m\u001b[0m\n\u001b[0m\u001b[1;32m    905\u001b[0m             \u001b[0;32mexcept\u001b[0m \u001b[0mException\u001b[0m \u001b[0;32mas\u001b[0m \u001b[0me\u001b[0m\u001b[0;34m:\u001b[0m\u001b[0;34m\u001b[0m\u001b[0;34m\u001b[0m\u001b[0m\n\u001b[1;32m    906\u001b[0m                 \u001b[0mself\u001b[0m\u001b[0;34m.\u001b[0m\u001b[0mlog\u001b[0m\u001b[0;34m.\u001b[0m\u001b[0mwarning\u001b[0m\u001b[0;34m(\u001b[0m\u001b[0;34m\"Invalid Message:\"\u001b[0m\u001b[0;34m,\u001b[0m \u001b[0mexc_info\u001b[0m\u001b[0;34m=\u001b[0m\u001b[0;32mTrue\u001b[0m\u001b[0;34m)\u001b[0m\u001b[0;34m\u001b[0m\u001b[0;34m\u001b[0m\u001b[0m\n",
            "\u001b[0;31mKeyboardInterrupt\u001b[0m: Interrupted by user"
          ]
        }
      ]
    },
    {
      "cell_type": "markdown",
      "source": [
        " Write a Python program which accepts a sequence of comma separated 4 digit binary numbers as its input and print the numbers that are divisible by 5 in a comma separated sequence \n",
        " Sample Data : 0100,0011,1010,1001,1100,1001\n",
        "Expected Output : 1010"
      ],
      "metadata": {
        "id": "0jMXYir3CdOY"
      }
    },
    {
      "cell_type": "code",
      "source": [
        "# according to the question it will take only the multiple of 5 \n",
        "items=[]\n",
        "num= [x for x in input().split(',')]\n",
        "for p in num:\n",
        "  x=int(p,2)\n",
        "  if not x%5:\n",
        "    items.append(p)\n",
        "print('',join(items))"
      ],
      "metadata": {
        "colab": {
          "base_uri": "https://localhost:8080/",
          "height": 218
        },
        "id": "Gx-a0q5LCltg",
        "outputId": "8de32d12-856b-4006-9a84-a0bc77585acd"
      },
      "execution_count": null,
      "outputs": [
        {
          "name": "stdout",
          "output_type": "stream",
          "text": [
            "1001\n"
          ]
        },
        {
          "output_type": "error",
          "ename": "NameError",
          "evalue": "ignored",
          "traceback": [
            "\u001b[0;31m---------------------------------------------------------------------------\u001b[0m",
            "\u001b[0;31mNameError\u001b[0m                                 Traceback (most recent call last)",
            "\u001b[0;32m<ipython-input-40-636f2c631231>\u001b[0m in \u001b[0;36m<module>\u001b[0;34m\u001b[0m\n\u001b[1;32m      5\u001b[0m   \u001b[0;32mif\u001b[0m \u001b[0;32mnot\u001b[0m \u001b[0mx\u001b[0m\u001b[0;34m%\u001b[0m\u001b[0;36m5\u001b[0m\u001b[0;34m:\u001b[0m\u001b[0;34m\u001b[0m\u001b[0;34m\u001b[0m\u001b[0m\n\u001b[1;32m      6\u001b[0m     \u001b[0mitems\u001b[0m\u001b[0;34m.\u001b[0m\u001b[0mappend\u001b[0m\u001b[0;34m(\u001b[0m\u001b[0mp\u001b[0m\u001b[0;34m)\u001b[0m\u001b[0;34m\u001b[0m\u001b[0;34m\u001b[0m\u001b[0m\n\u001b[0;32m----> 7\u001b[0;31m \u001b[0mprint\u001b[0m\u001b[0;34m(\u001b[0m\u001b[0;34m''\u001b[0m\u001b[0;34m,\u001b[0m\u001b[0mjoin\u001b[0m\u001b[0;34m(\u001b[0m\u001b[0mitems\u001b[0m\u001b[0;34m)\u001b[0m\u001b[0;34m)\u001b[0m\u001b[0;34m\u001b[0m\u001b[0;34m\u001b[0m\u001b[0m\n\u001b[0m",
            "\u001b[0;31mNameError\u001b[0m: name 'join' is not defined"
          ]
        }
      ]
    },
    {
      "cell_type": "code",
      "source": [
        "items = []\n",
        "num = [x for x in input().split(',')]\n",
        "for p in num:\n",
        "    x = int(p, 2)\n",
        "    if not x%5:\n",
        "        items.append(p)\n",
        "print(','.join(items))\n"
      ],
      "metadata": {
        "id": "DoHlk2VqDSsW"
      },
      "execution_count": null,
      "outputs": []
    },
    {
      "cell_type": "markdown",
      "source": [
        "Write a Python program that accepts a string and calculate the number of digits and letters.\n",
        "\n"
      ],
      "metadata": {
        "id": "LTHlMMndDvQn"
      }
    },
    {
      "cell_type": "code",
      "source": [
        "s= input(\"input a string\")\n",
        "d=l=0\n",
        "for c in s:\n",
        "  if c.isdigit():\n",
        "    d=d+1\n",
        "  elif c.isalpha():\n",
        "    l=l+1\n",
        "  else:\n",
        "    pass\n",
        "print(\"letters\",l) \n",
        "print(\"digits\",d) \n"
      ],
      "metadata": {
        "colab": {
          "base_uri": "https://localhost:8080/"
        },
        "id": "p0eAKkdJDwEN",
        "outputId": "8eeff4b6-a3c2-400d-e253-3db9d6c23bed"
      },
      "execution_count": null,
      "outputs": [
        {
          "output_type": "stream",
          "name": "stdout",
          "text": [
            "input a stringw3 resource\n",
            "letters 9\n",
            "digits 1\n"
          ]
        }
      ]
    },
    {
      "cell_type": "markdown",
      "source": [
        "Write a Python program to check the validity of password input by users. Go to the editor\n",
        "Validation :\n",
        "\n",
        "At least 1 letter between [a-z] and 1 letter between [A-Z].\n",
        "At least 1 number between [0-9].\n",
        "At least 1 character from [$#@].\n",
        "Minimum length 6 characters.\n",
        "Maximum length 16 characters.\n"
      ],
      "metadata": {
        "id": "xyEnc2wgETyH"
      }
    },
    {
      "cell_type": "code",
      "source": [
        "import re\n",
        "p=input(\"input your password\")\n",
        "x=True\n",
        "while x:\n",
        "  if(len(p)<6 or len(p)>12):\n",
        "    break\n",
        "  elif not re.search(\"[a-z]\",p):\n",
        "    break\n",
        "  elif not re.search(\"[0-9]\",p):\n",
        "    break\n",
        "  elif not re.search(\"[A-Z]\",p):\n",
        "    break\n",
        "  elif not re.search(\"[$#@]\",p):\n",
        "    break\n",
        "  elif re.search(\"\\s\",p):\n",
        "    break\n",
        "  else:\n",
        "    print(\"valid password\")\n",
        "    x=False\n",
        "    break\n",
        "\n",
        "if x:\n",
        "   print(\"not a valid password \")     \n",
        "\n",
        "\n"
      ],
      "metadata": {
        "colab": {
          "base_uri": "https://localhost:8080/"
        },
        "id": "wKASRbKBEVPf",
        "outputId": "c63e4098-020b-4d29-b2d9-38be9bb56f5f"
      },
      "execution_count": null,
      "outputs": [
        {
          "output_type": "stream",
          "name": "stdout",
          "text": [
            "input your passwordSummer@69\n",
            "valid password\n"
          ]
        }
      ]
    },
    {
      "cell_type": "markdown",
      "source": [
        "Write a Python program to find numbers between 100 and 400 (both included) where each digit of a number is an even number. The numbers obtained should be printed in a comma-separated sequence.\n"
      ],
      "metadata": {
        "id": "DKSWvp1M66Fq"
      }
    },
    {
      "cell_type": "code",
      "source": [
        "items=[]\n",
        "for i in range(100,401):\n",
        "    s=str(i)\n",
        "    if int(s[0])%2==0 and int(s[1])%2==0 and int (s[2])%2==0:\n",
        "       items.append(s)\n",
        "print(\",\".join(items))\n"
      ],
      "metadata": {
        "colab": {
          "base_uri": "https://localhost:8080/"
        },
        "id": "JJfKw9R768r_",
        "outputId": "07c1ad14-bbd2-4241-b2fd-177e05135dfc"
      },
      "execution_count": 15,
      "outputs": [
        {
          "output_type": "stream",
          "name": "stdout",
          "text": [
            "200,202,204,206,208,220,222,224,226,228,240,242,244,246,248,260,262,264,266,268,280,282,284,286,288,400\n"
          ]
        }
      ]
    },
    {
      "cell_type": "markdown",
      "source": [
        "Write a Python program to print alphabet pattern 'A'\n",
        "![image.png](data:image/png;base64,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)"
      ],
      "metadata": {
        "id": "LqFT47I1_IcQ"
      }
    },
    {
      "cell_type": "code",
      "source": [
        "result_str=\"\";\n",
        "for row in range(0,7):\n",
        "    for column in range(0,7):\n",
        "        if(((column==1 or column==5) and row!=0)or ((row==0 or row==3) and (column>1 and column<5))):\n",
        "          result_str=result_str+\"*\"\n",
        "        else: \n",
        "          result_str=result_str+\" \"\n",
        "    result_str=result_str+\"\\n\"\n",
        "print(result_str)\n"
      ],
      "metadata": {
        "colab": {
          "base_uri": "https://localhost:8080/"
        },
        "id": "CMlb0WIW_KEN",
        "outputId": "6fa7639b-344e-470b-85cd-14d66f36a60c"
      },
      "execution_count": 17,
      "outputs": [
        {
          "output_type": "stream",
          "name": "stdout",
          "text": [
            "  ***  \n",
            " *   * \n",
            " *   * \n",
            " ***** \n",
            " *   * \n",
            " *   * \n",
            " *   * \n",
            "\n"
          ]
        }
      ]
    },
    {
      "cell_type": "markdown",
      "source": [
        "Write a Python program to print alphabet pattern 'D'.![image.png](data:image/png;base64,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)"
      ],
      "metadata": {
        "id": "C1KUcoAJCDCj"
      }
    },
    {
      "cell_type": "code",
      "source": [
        "result_str=\"\";\n",
        "for row in range(0,7):\n",
        "  for  column in range(0,7):\n",
        "     if (column==1 or ((row==0 or row ==6)) and (column>1 and column<5) or (column==5 and row !=0 and row !=6)):\n",
        "        result_str=result_str+\"*\"\n",
        "     else:\n",
        "        result_str=result_str +\" \"\n",
        "  result_str=result_str+\"\\n\" \n",
        "print(result_str) \n"
      ],
      "metadata": {
        "colab": {
          "base_uri": "https://localhost:8080/"
        },
        "id": "9ZKEEl7eCNJi",
        "outputId": "ace9f9bc-4b2c-422f-cfe3-970976165b12"
      },
      "execution_count": 22,
      "outputs": [
        {
          "output_type": "stream",
          "name": "stdout",
          "text": [
            " ****  \n",
            " *   * \n",
            " *   * \n",
            " *   * \n",
            " *   * \n",
            " *   * \n",
            " ****  \n",
            "\n"
          ]
        }
      ]
    },
    {
      "cell_type": "markdown",
      "source": [
        "Write a program to display only those numbers from a list that satisfy the following conditions\n",
        "\n",
        "The number must be divisible by five\n",
        "If the number is greater than 150, then skip it and move to the next number\n",
        "If the number is greater than 500, then stop the loop\n",
        "numbers = [12, 75, 150, 180, 145, 525, 50]\n"
      ],
      "metadata": {
        "id": "3QeJ46EJFH-i"
      }
    },
    {
      "cell_type": "code",
      "source": [
        "numbers=[12,75,150,180,145,525,50]\n",
        "#iterata each item of a list \n",
        "for item in numbers:\n",
        "  if item>500:\n",
        "    break\n",
        "  elif item>150:\n",
        "    continue\n",
        " #check if number is divisible by 5\n",
        "  elif item%5==0:\n",
        "       print(item)\n"
      ],
      "metadata": {
        "colab": {
          "base_uri": "https://localhost:8080/"
        },
        "id": "RWXUH3ItFLDw",
        "outputId": "88893acc-1707-4253-f9e0-3ad4d4a87a2e"
      },
      "execution_count": 24,
      "outputs": [
        {
          "output_type": "stream",
          "name": "stdout",
          "text": [
            "75\n",
            "150\n",
            "145\n"
          ]
        }
      ]
    },
    {
      "cell_type": "markdown",
      "source": [
        "Write a program to count the total number of digits in a number using a while loop.\n",
        "\n",
        "75869-number"
      ],
      "metadata": {
        "id": "2KRSteahF560"
      }
    },
    {
      "cell_type": "code",
      "source": [
        "num=75869\n",
        "count=0\n",
        "while num!=0:\n",
        "  #floor divisition\n",
        "  #to reduce the last digit from number\n",
        "  num=num//10\n",
        "  #increment counter by 1\n",
        "  count=count+1\n",
        "print(\"Total digits are:\",count)\n",
        "\n",
        "\n"
      ],
      "metadata": {
        "colab": {
          "base_uri": "https://localhost:8080/"
        },
        "id": "Z08QL5dxF7ZK",
        "outputId": "c8130244-9790-43c3-dd2c-e9fdd83c7324"
      },
      "execution_count": 25,
      "outputs": [
        {
          "output_type": "stream",
          "name": "stdout",
          "text": [
            "Total digits are: 5\n"
          ]
        }
      ]
    },
    {
      "cell_type": "markdown",
      "source": [
        "Write a program to use for loop to print the following reverse number pattern\n",
        "\n",
        "![image.png](data:image/png;base64,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)"
      ],
      "metadata": {
        "id": "woJ7Uy_ZGr8t"
      }
    },
    {
      "cell_type": "code",
      "source": [
        "n=5\n",
        "k=5\n",
        "for i in range(0,n+1):\n",
        "  for j in range(k-i,0,-1):\n",
        "   print(j,end='')\n",
        "  print()"
      ],
      "metadata": {
        "colab": {
          "base_uri": "https://localhost:8080/"
        },
        "id": "Mp8HeMdkGy07",
        "outputId": "5c526af2-581f-4648-c4b2-fe3a45b90118"
      },
      "execution_count": 1,
      "outputs": [
        {
          "output_type": "stream",
          "name": "stdout",
          "text": [
            "54321\n",
            "4321\n",
            "321\n",
            "21\n",
            "1\n",
            "\n"
          ]
        }
      ]
    },
    {
      "cell_type": "markdown",
      "source": [
        "Print list in reverse order using a loop list1 = [10, 20, 30, 40, 50]\n"
      ],
      "metadata": {
        "id": "pBlOQGOzlgA_"
      }
    },
    {
      "cell_type": "code",
      "source": [
        "list1=[10,20,30,40,50]\n",
        "#reverse list\n",
        "new_list=reversed(list1)\n",
        "#iterate reversed list\n",
        "for item in new_list:\n",
        "  print(item)\n"
      ],
      "metadata": {
        "colab": {
          "base_uri": "https://localhost:8080/"
        },
        "id": "mjUKzu5XljAb",
        "outputId": "3016fa0c-5f8b-4127-d0b6-d128403a7e3d"
      },
      "execution_count": 2,
      "outputs": [
        {
          "output_type": "stream",
          "name": "stdout",
          "text": [
            "50\n",
            "40\n",
            "30\n",
            "20\n",
            "10\n"
          ]
        }
      ]
    },
    {
      "cell_type": "markdown",
      "source": [
        "Display numbers from -10 to -1 using for loop\n"
      ],
      "metadata": {
        "id": "FkhRvYxbl9oJ"
      }
    },
    {
      "cell_type": "code",
      "source": [
        "for num in range(-10,0,1):\n",
        "  print(num)\n"
      ],
      "metadata": {
        "colab": {
          "base_uri": "https://localhost:8080/"
        },
        "id": "9Ei-HUCbl-z4",
        "outputId": "fe8b506d-921d-4ed3-e2d2-2c8e006239b2"
      },
      "execution_count": 3,
      "outputs": [
        {
          "output_type": "stream",
          "name": "stdout",
          "text": [
            "-10\n",
            "-9\n",
            "-8\n",
            "-7\n",
            "-6\n",
            "-5\n",
            "-4\n",
            "-3\n",
            "-2\n",
            "-1\n"
          ]
        }
      ]
    },
    {
      "cell_type": "markdown",
      "source": [
        "Use else block to display a message “Done” after successful execution of for loop for i in range(5):\n",
        "    print(i)\n",
        "Expected output:\n",
        "\n",
        "0\n",
        "1\n",
        "2\n",
        "3\n",
        "4\n",
        "Done!"
      ],
      "metadata": {
        "id": "MSowqq-_mg_z"
      }
    },
    {
      "cell_type": "code",
      "source": [
        "for i in range(5):\n",
        "  print(i)\n",
        "else:\n",
        "  print(\"Done!\")\n"
      ],
      "metadata": {
        "colab": {
          "base_uri": "https://localhost:8080/"
        },
        "id": "vePh0_GOmrQO",
        "outputId": "75ef5755-f43b-4337-ff6e-f2e6885c487d"
      },
      "execution_count": 5,
      "outputs": [
        {
          "output_type": "stream",
          "name": "stdout",
          "text": [
            "0\n",
            "1\n",
            "2\n",
            "3\n",
            "4\n",
            "Done!\n"
          ]
        }
      ]
    },
    {
      "cell_type": "markdown",
      "source": [
        "Write a program to display all prime numbers within a range\n",
        "Given:\n",
        "\n",
        "# range\n",
        "start = 25\n",
        "end = 50\n",
        "Expected output:\n",
        "\n",
        "Prime numbers between 25 and 50 are:\n",
        "29\n",
        "31\n",
        "37\n",
        "41\n",
        "43\n",
        "47"
      ],
      "metadata": {
        "id": "thpSUS81m_1X"
      }
    },
    {
      "cell_type": "code",
      "source": [
        "start=25\n",
        "end=50\n",
        "print(\"prime number between\",start,\"and\",end,\"are:\")\n",
        "\n",
        "for num in range(start, end+1):\n",
        "    if num>1:\n",
        "      for i in range(2,num):\n",
        "          if (num%i)==0:\n",
        "              break\n",
        "      else:\n",
        "           print(num)\n",
        "\n"
      ],
      "metadata": {
        "colab": {
          "base_uri": "https://localhost:8080/"
        },
        "id": "MGTz1ZjFnKrP",
        "outputId": "fc418862-f3a8-4fdc-eda8-bece30af05f0"
      },
      "execution_count": 9,
      "outputs": [
        {
          "output_type": "stream",
          "name": "stdout",
          "text": [
            "prime number between 25 and 50 are:\n",
            "29\n",
            "31\n",
            "37\n",
            "41\n",
            "43\n",
            "47\n"
          ]
        }
      ]
    },
    {
      "cell_type": "markdown",
      "source": [
        " Display Fibonacci series up to 10 terms"
      ],
      "metadata": {
        "id": "WwRsS_0qpbLQ"
      }
    },
    {
      "cell_type": "code",
      "source": [
        "#first two numbers\n",
        "num1,num2=0,1\n",
        "print(\"FIBOnacci sequence:\")\n",
        "#run loop 10 times\n",
        "for i in range(10):\n",
        "  #print next number of a series \n",
        "  print(num1,end=\" \")\n",
        "  #add last two numbers to get next number\n",
        "  res=num1+num2\n",
        "  #update values\n",
        "  num1=num2\n",
        "  num2=res \n"
      ],
      "metadata": {
        "colab": {
          "base_uri": "https://localhost:8080/"
        },
        "id": "oXaJ8F_Tpci1",
        "outputId": "bbb931e0-6755-40ce-c2a6-66c35bd0d230"
      },
      "execution_count": 10,
      "outputs": [
        {
          "output_type": "stream",
          "name": "stdout",
          "text": [
            "FIBOnacci sequence:\n",
            "0 1 1 2 3 5 8 13 21 34 "
          ]
        }
      ]
    },
    {
      "cell_type": "markdown",
      "source": [
        "Write a program to use the loop to find the factorial of a given number.\n",
        "\n",
        "5! = 5 × 4 × 3 × 2 × 1 = 120\n"
      ],
      "metadata": {
        "id": "Y9AwYHzVqEuO"
      }
    },
    {
      "cell_type": "code",
      "source": [
        "num=5\n",
        "factorial=1\n",
        "if num<0:\n",
        "  print(\"factorial does not exist for negative numbers:\")\n",
        "elif num==0:\n",
        "  print(\"the factorial of 0 is 1\")\n",
        "else:\n",
        "  #run loop 5 times\n",
        "  for i in range(1,num+1):\n",
        "    #multiply factorial by current number \n",
        "    factorial =factorial *i\n",
        "print(\"the factorial of \",num,\"is\",factorial)\n"
      ],
      "metadata": {
        "colab": {
          "base_uri": "https://localhost:8080/"
        },
        "id": "5ZYwKf0DqF1H",
        "outputId": "05b7d9a1-ed45-4a0e-84d4-1d3202641b50"
      },
      "execution_count": 13,
      "outputs": [
        {
          "output_type": "stream",
          "name": "stdout",
          "text": [
            "the factorial of  5 is 120\n"
          ]
        }
      ]
    },
    {
      "cell_type": "markdown",
      "source": [
        " Reverse a given integer number  Given:\n",
        "\n",
        "76542\n",
        "\n",
        "Expected output:\n",
        "\n",
        "24567"
      ],
      "metadata": {
        "id": "4UMRB3MSq6rH"
      }
    },
    {
      "cell_type": "markdown",
      "source": [],
      "metadata": {
        "id": "nnGQR-iMq6ot"
      }
    },
    {
      "cell_type": "code",
      "source": [
        "num=76542\n",
        "reverse_number=0\n",
        "print(\"given number\",num)\n",
        "while num>0:\n",
        "  remainder=num%10\n",
        "  reverse_number=(reverse_number*10)+remainder\n",
        "  num=num//10\n",
        "print(\"reverse number\",reverse_number)\n"
      ],
      "metadata": {
        "colab": {
          "base_uri": "https://localhost:8080/"
        },
        "id": "hUBhfbq9rA0M",
        "outputId": "9507928f-5e25-40e5-c604-9f3317d036bf"
      },
      "execution_count": 14,
      "outputs": [
        {
          "output_type": "stream",
          "name": "stdout",
          "text": [
            "given number 76542\n",
            "reverse number 24567\n"
          ]
        }
      ]
    },
    {
      "cell_type": "markdown",
      "source": [
        "Use a loop to display elements from a given list present at odd index positions my_list = [10, 20, 30, 40, 50, 60, 70, 80, 90, 100]\n"
      ],
      "metadata": {
        "id": "5Do63Uohrial"
      }
    },
    {
      "cell_type": "code",
      "source": [
        "my_list=[10,20,30,40,50,60,70,80,90,100]\n",
        "#start from index 1 with step 2(means 1,3,5 and so on )\n",
        "for i in my_list[1::2]:\n",
        "    print(i,end=\" \")"
      ],
      "metadata": {
        "colab": {
          "base_uri": "https://localhost:8080/"
        },
        "id": "u7PcoyM2rk1B",
        "outputId": "5c3b4fea-be45-42c2-8cce-62141a496eee"
      },
      "execution_count": 15,
      "outputs": [
        {
          "output_type": "stream",
          "name": "stdout",
          "text": [
            "20 40 60 80 100 "
          ]
        }
      ]
    },
    {
      "cell_type": "markdown",
      "source": [
        "Write a program to print the cube of all numbers from 1 to a given number\n",
        "\n"
      ],
      "metadata": {
        "id": "NEDTitz5t0T2"
      }
    },
    {
      "cell_type": "code",
      "source": [
        "input_number=6\n",
        "for i in range(1, input_number+1):\n",
        "     print(\"Current number is :\",i,\"and the cube is \",(i*i*i))"
      ],
      "metadata": {
        "colab": {
          "base_uri": "https://localhost:8080/"
        },
        "id": "DFPnDV55t29s",
        "outputId": "269ce1fc-a922-42e6-89f5-39c9f5e839f2"
      },
      "execution_count": 16,
      "outputs": [
        {
          "output_type": "stream",
          "name": "stdout",
          "text": [
            "Current number is : 1 and the cube is  1\n",
            "Current number is : 2 and the cube is  8\n",
            "Current number is : 3 and the cube is  27\n",
            "Current number is : 4 and the cube is  64\n",
            "Current number is : 5 and the cube is  125\n",
            "Current number is : 6 and the cube is  216\n"
          ]
        }
      ]
    },
    {
      "cell_type": "markdown",
      "source": [
        "Write a program to calculate the sum of series up to n term. For example, if n =5 the series will become 2 + 22 + 222 + 2222 + 22222 = 24690\n",
        "\n"
      ],
      "metadata": {
        "id": "vvRUpl2UuS7h"
      }
    },
    {
      "cell_type": "code",
      "source": [
        "n=5\n",
        "#first number of sequence\n",
        "start=2\n",
        "sum_seq=0\n",
        "\n",
        "#run loop n times\n",
        "for i in range(0,n):\n",
        "  print(start,end=\"+\")\n",
        "  \n",
        "  sum_seq +=start\n",
        "  #calculate the next term\n",
        "  start=start*10+2\n",
        "\n",
        "print(\"\\nSum of above series is:\", sum_seq)\n"
      ],
      "metadata": {
        "colab": {
          "base_uri": "https://localhost:8080/"
        },
        "id": "pWNhU0X7uXLN",
        "outputId": "11914c68-df3b-4a8c-93e4-5c9f10b447ae"
      },
      "execution_count": 22,
      "outputs": [
        {
          "output_type": "stream",
          "name": "stdout",
          "text": [
            "2+22+222+2222+22222+\n",
            "Sum of above series is: 24690\n"
          ]
        }
      ]
    },
    {
      "cell_type": "markdown",
      "source": [
        "Write a program to print the following start pattern using the for loop\n",
        "\n",
        "![image.png](data:image/png;base64,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)"
      ],
      "metadata": {
        "id": "mhL6_rrgvyl3"
      }
    },
    {
      "cell_type": "code",
      "source": [
        "rows = 5\n",
        "for i in range(0, rows):\n",
        "    for j in range(0, i + 1):\n",
        "        print(\"*\", end=' ')\n",
        "    print(\"\\r\")\n",
        "\n",
        "for i in range(rows, 0, -1):\n",
        "    for j in range(0, i - 1):\n",
        "        print(\"*\", end=' ')\n",
        "    print(\"\\r\")\n"
      ],
      "metadata": {
        "colab": {
          "base_uri": "https://localhost:8080/"
        },
        "id": "oKrbBqxVv3FK",
        "outputId": "3bcd13c7-c099-41c6-e46b-ab50f8b95e7f"
      },
      "execution_count": 25,
      "outputs": [
        {
          "output_type": "stream",
          "name": "stdout",
          "text": [
            "* \r\n",
            "* * \r\n",
            "* * * \r\n",
            "* * * * \r\n",
            "* * * * * \r\n",
            "* * * * \r\n",
            "* * * \r\n",
            "* * \r\n",
            "* \r\n",
            "\r\n"
          ]
        }
      ]
    }
  ]
}