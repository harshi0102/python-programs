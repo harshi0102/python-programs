{
  "nbformat": 4,
  "nbformat_minor": 0,
  "metadata": {
    "colab": {
      "provenance": [],
      "authorship_tag": "ABX9TyO1bSDn46cxFWLgKJkOAZER",
      "include_colab_link": true
    },
    "kernelspec": {
      "name": "python3",
      "display_name": "Python 3"
    },
    "language_info": {
      "name": "python"
    }
  },
  "cells": [
    {
      "cell_type": "markdown",
      "metadata": {
        "id": "view-in-github",
        "colab_type": "text"
      },
      "source": [
        "<a href=\"https://colab.research.google.com/github/harshi0102/python-programs/blob/main/important_file_of_python_exercises.ipynb\" target=\"_parent\"><img src=\"https://colab.research.google.com/assets/colab-badge.svg\" alt=\"Open In Colab\"/></a>"
      ]
    },
    {
      "cell_type": "markdown",
      "source": [
        "Write a Python program to find those numbers which are divisible by 7 and multiple of 5, between 1500 and 2700 (both included).\n",
        "\n"
      ],
      "metadata": {
        "id": "Fgn7uIK91Dsc"
      }
    },
    {
      "cell_type": "code",
      "execution_count": 4,
      "metadata": {
        "colab": {
          "base_uri": "https://localhost:8080/"
        },
        "id": "Wl4bu_ww1CqE",
        "outputId": "99b5e2f8-6208-46de-f310-28745c0a7cab"
      },
      "outputs": [
        {
          "output_type": "stream",
          "name": "stdout",
          "text": [
            "1505 1540 1575 1610 1645 1680 1715 1750 1785 1820 1855 1890 1925 1960 1995 2030 2065 2100 2135 2170 2205 2240 2275 2310 2345 2380 2415 2450 2485 2520 2555 2590 2625 2660 2695\n"
          ]
        }
      ],
      "source": [
        "n1=[]\n",
        "for x in range(1500,2701):\n",
        "  if x%7==0 and x%5==0:\n",
        "   n1.append(str(x))\n",
        "   \n",
        "   \n",
        "print(' '.join(n1))\n"
      ]
    },
    {
      "cell_type": "markdown",
      "source": [
        "Write a Python program to convert temperatures to and from celsius, fahrenheit [ Formula : c/5 = f-32/9 [ where c = temperature in celsius and f = temperature in fahrenheit ]\n",
        "Expected Output :\n",
        "60°C is 140 in Fahrenheit\n",
        "45°F is 7 in Celsius"
      ],
      "metadata": {
        "id": "mRaBIS0d2eD7"
      }
    },
    {
      "cell_type": "code",
      "source": [
        "temp=input(\"input the tempreature you like to convert?e.g.,45F,102C etc:)\")\n",
        "degree=int(temp[:-1])\n",
        "i_convention=temp[-1]\n",
        "\n",
        "if i_convention.upper()==\"C\":\n",
        "  result=int(round(9*degree) /5+32)\n",
        "  o_convention=\"Fahrenheit\"\n",
        "elif i_convention.upper()==\"F\":\n",
        "  result=int(round(degree-32)*5/9)\n",
        "  O_convention=\"Celsius\"\n",
        "else:\n",
        "  print(\"input prpoer convention.\")\n",
        "  quit()\n",
        " \n",
        "print(\"the tempreature in\",o_convention,\"is\",result,\"degrees\")\n"
      ],
      "metadata": {
        "colab": {
          "base_uri": "https://localhost:8080/"
        },
        "id": "iJ0H9pxa3FnK",
        "outputId": "b17a8dd0-bb30-4ad5-dd45-27d4abc22724"
      },
      "execution_count": 12,
      "outputs": [
        {
          "output_type": "stream",
          "name": "stdout",
          "text": [
            "input the tempreature you like to convert?e.g.,45F,102C etc:)45F\n",
            "the tempreature in Celsius is 7 degrees\n"
          ]
        }
      ]
    },
    {
      "cell_type": "markdown",
      "source": [
        " Write a Python program to guess a number between 1 to 9\n",
        " "
      ],
      "metadata": {
        "id": "0bCyWwkm4b2U"
      }
    },
    {
      "cell_type": "code",
      "source": [
        "import random\n",
        "target_num,guess_num=random.randint(1,10), 0\n",
        "\n",
        "while target_num !=guess_num:\n",
        "  guess_num=int(input(\"guess a number between 1 and 10 until you get it right:\"))\n",
        "\n",
        "print(\"well guessed\")\n"
      ],
      "metadata": {
        "colab": {
          "base_uri": "https://localhost:8080/"
        },
        "id": "bg0sl9eN4jLc",
        "outputId": "e8d0c7a2-0e51-49ce-c623-269a0d25ede9"
      },
      "execution_count": 18,
      "outputs": [
        {
          "output_type": "stream",
          "name": "stdout",
          "text": [
            "guess a number between 1 and 10 until you get it right:6\n",
            "well guessed\n"
          ]
        }
      ]
    },
    {
      "cell_type": "markdown",
      "source": [
        "Write a Python program to construct the following pattern, using a nested for loop.   ![image.png](data:image/png;base64,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)"
      ],
      "metadata": {
        "id": "pmE4UaIn6dCx"
      }
    },
    {
      "cell_type": "code",
      "source": [
        "n=5;\n",
        "for i in range(n):\n",
        "  for j in range(i):\n",
        "      print('*',end=\"\")\n",
        "  print('')\n",
        "\n",
        "for i in range(n,0,-1):\n",
        "  for j in range(i):\n",
        "      print('*',end=\"\")\n",
        "  print('')     "
      ],
      "metadata": {
        "colab": {
          "base_uri": "https://localhost:8080/"
        },
        "id": "XByLO0Mc6s6L",
        "outputId": "a1dd2971-8ac1-4d78-a179-b26b4c7ede35"
      },
      "execution_count": 24,
      "outputs": [
        {
          "output_type": "stream",
          "name": "stdout",
          "text": [
            "\n",
            "*\n",
            "**\n",
            "***\n",
            "****\n",
            "*****\n",
            "****\n",
            "***\n",
            "**\n",
            "*\n"
          ]
        }
      ]
    },
    {
      "cell_type": "markdown",
      "source": [
        "Write a Python program that accepts a word from the user and reverse it"
      ],
      "metadata": {
        "id": "uJ-5RBkb7xhZ"
      }
    },
    {
      "cell_type": "code",
      "source": [
        "word=input(\"input a word to reverse:\")\n",
        "for char in range(len(word) -1,-1,-1):\n",
        "  print(word[char],end=\"\")\n",
        "  print(\"\\n\")\n"
      ],
      "metadata": {
        "colab": {
          "base_uri": "https://localhost:8080/"
        },
        "id": "miqNvDNy7yfn",
        "outputId": "82c1069f-1218-4e39-8623-a48fa649f707"
      },
      "execution_count": 25,
      "outputs": [
        {
          "output_type": "stream",
          "name": "stdout",
          "text": [
            "input a word to reverse:welcome\n",
            "e\n",
            "\n",
            "m\n",
            "\n",
            "o\n",
            "\n",
            "c\n",
            "\n",
            "l\n",
            "\n",
            "e\n",
            "\n",
            "w\n",
            "\n"
          ]
        }
      ]
    },
    {
      "cell_type": "markdown",
      "source": [
        "Write a Python program to count the number of even and odd numbers from a series of numbers"
      ],
      "metadata": {
        "id": "B_HNiKeo8dAW"
      }
    },
    {
      "cell_type": "code",
      "source": [
        "numbers=(1,2,3,4,5,6,7,8,9)# declaring the tuple\n",
        "count_odd=0\n",
        "count_even=0\n",
        "for x in numbers:\n",
        "  if not x%2:\n",
        "    count_even +=1\n",
        "  else:\n",
        "      count_odd +=1\n",
        "print(\"number of even numbers:\",count_even)\n",
        "print(\"number of odd numbers:\",count_odd)\n"
      ],
      "metadata": {
        "colab": {
          "base_uri": "https://localhost:8080/"
        },
        "id": "MHSd7ngW8eYB",
        "outputId": "0262d745-8bc1-4e0b-c1eb-d281245a6f9d"
      },
      "execution_count": 26,
      "outputs": [
        {
          "output_type": "stream",
          "name": "stdout",
          "text": [
            "number of even numbers: 4\n",
            "number of odd numbers: 5\n"
          ]
        }
      ]
    },
    {
      "cell_type": "markdown",
      "source": [
        "Write a Python program that prints each item and its corresponding type from the following list.\n",
        "\n",
        "Sample List : datalist = [1452, 11.23, 1+2j, True, 'w3resource', (0, -1), [5, 12], {\"class\":'V', \"section\":'A'}]"
      ],
      "metadata": {
        "id": "1Dp8OZQR9QOW"
      }
    },
    {
      "cell_type": "code",
      "source": [
        "datalist=[1452,11.23,1+2j,True,'w3resource',(0,-1),[5,12],\n",
        "          {\"class\":'V',\"section\":'A'}]\n",
        "for item in datalist:\n",
        "  print(\"type of \",item,\"is\",type(item))\n",
        "\n"
      ],
      "metadata": {
        "colab": {
          "base_uri": "https://localhost:8080/"
        },
        "id": "rUklaNZo9RLu",
        "outputId": "a0eec0c4-2adc-4d5e-dbd2-7b8068620ac7"
      },
      "execution_count": 27,
      "outputs": [
        {
          "output_type": "stream",
          "name": "stdout",
          "text": [
            "type of  1452 is <class 'int'>\n",
            "type of  11.23 is <class 'float'>\n",
            "type of  (1+2j) is <class 'complex'>\n",
            "type of  True is <class 'bool'>\n",
            "type of  w3resource is <class 'str'>\n",
            "type of  (0, -1) is <class 'tuple'>\n",
            "type of  [5, 12] is <class 'list'>\n",
            "type of  {'class': 'V', 'section': 'A'} is <class 'dict'>\n"
          ]
        }
      ]
    },
    {
      "cell_type": "markdown",
      "source": [
        "Write a Python program that prints all the numbers from 0 to 6 except 3 and 6."
      ],
      "metadata": {
        "id": "FQpIQeKp99dT"
      }
    },
    {
      "cell_type": "code",
      "source": [
        "for x in range(6):\n",
        "  if(x==3 or x==6):\n",
        "    continue\n",
        "  print(x,end=' ')\n",
        "print(\"\\n\")\n"
      ],
      "metadata": {
        "colab": {
          "base_uri": "https://localhost:8080/"
        },
        "id": "E2uxQLCR9_ze",
        "outputId": "c1dbc193-f4f7-4461-c9d1-1ca6d84f468a"
      },
      "execution_count": 32,
      "outputs": [
        {
          "output_type": "stream",
          "name": "stdout",
          "text": [
            "0 1 2 4 5 \n",
            "\n"
          ]
        }
      ]
    },
    {
      "cell_type": "markdown",
      "source": [
        "Write a Python program to get the Fibonacci series between 0 to 50. "
      ],
      "metadata": {
        "id": "HjCm_GdG-4jZ"
      }
    },
    {
      "cell_type": "code",
      "source": [
        "x,y=0,1\n",
        "\n",
        "while y<50:\n",
        "  print(y)\n",
        "  x,y=y,x+y"
      ],
      "metadata": {
        "colab": {
          "base_uri": "https://localhost:8080/"
        },
        "id": "j0eCSD-5-5ND",
        "outputId": "604be362-b831-47df-eafd-6e462db6cd59"
      },
      "execution_count": 33,
      "outputs": [
        {
          "output_type": "stream",
          "name": "stdout",
          "text": [
            "1\n",
            "1\n",
            "2\n",
            "3\n",
            "5\n",
            "8\n",
            "13\n",
            "21\n",
            "34\n"
          ]
        }
      ]
    },
    {
      "cell_type": "markdown",
      "source": [
        "Write a Python program which iterates the integers from 1 to 50. For multiples of three print \"Fizz\" instead of the number and for the multiples of five print \"Buzz\". For numbers which are multiples of both three and five print \"FizzBuzz\"."
      ],
      "metadata": {
        "id": "yOk9oDU4_YCG"
      }
    },
    {
      "cell_type": "code",
      "source": [
        "for fizzbuzz in range(51):\n",
        "  if fizzbuzz%3 ==0 and fizzbuzz % 5==0:\n",
        "    print(\"fizzbuzz\")\n",
        "    continue\n",
        "  elif fizzbuzz%3==0:\n",
        "      print(\"fizz\")\n",
        "      continue\n",
        "  elif fizzbuzz % 5==0:\n",
        "        print(\"buzz\")\n",
        "        continue\n",
        "  print(fizzbuzz)"
      ],
      "metadata": {
        "colab": {
          "base_uri": "https://localhost:8080/"
        },
        "id": "grcL6F6s_Y7P",
        "outputId": "64f13c5e-74b9-4371-eacb-8c7b29424fd9"
      },
      "execution_count": 34,
      "outputs": [
        {
          "output_type": "stream",
          "name": "stdout",
          "text": [
            "fizzbuzz\n",
            "1\n",
            "2\n",
            "fizz\n",
            "4\n",
            "buzz\n",
            "fizz\n",
            "7\n",
            "8\n",
            "fizz\n",
            "buzz\n",
            "11\n",
            "fizz\n",
            "13\n",
            "14\n",
            "fizzbuzz\n",
            "16\n",
            "17\n",
            "fizz\n",
            "19\n",
            "buzz\n",
            "fizz\n",
            "22\n",
            "23\n",
            "fizz\n",
            "buzz\n",
            "26\n",
            "fizz\n",
            "28\n",
            "29\n",
            "fizzbuzz\n",
            "31\n",
            "32\n",
            "fizz\n",
            "34\n",
            "buzz\n",
            "fizz\n",
            "37\n",
            "38\n",
            "fizz\n",
            "buzz\n",
            "41\n",
            "fizz\n",
            "43\n",
            "44\n",
            "fizzbuzz\n",
            "46\n",
            "47\n",
            "fizz\n",
            "49\n",
            "buzz\n"
          ]
        }
      ]
    },
    {
      "cell_type": "markdown",
      "source": [
        "Write a Python program which takes two digits m (row) and n (column) as input and generates a two-dimensional array. The element value in the i-th row and j-th column of the array should be i*\n",
        "Note :\n",
        "i = 0,1.., m-1\n",
        "j = 0,1, n-1"
      ],
      "metadata": {
        "id": "L05b90A0AdRX"
      }
    },
    {
      "cell_type": "code",
      "source": [
        "row_num=int(input(\"input number of rows:\"))\n",
        "col_num=int(input(\"input number of columns\"))\n",
        "multi_list=[[0 for col in range(col_num)] for row in range(row_num)]\n",
        "\n",
        "for row in range(row_num):\n",
        "  for col in range(col_num):\n",
        "    multi_list[row][col]=row*col\n",
        "\n",
        "print(multi_list)"
      ],
      "metadata": {
        "colab": {
          "base_uri": "https://localhost:8080/"
        },
        "id": "yLmYXJCVAeTZ",
        "outputId": "59c24b3e-9bd9-441b-c5e5-bfbbf9a443e0"
      },
      "execution_count": 36,
      "outputs": [
        {
          "output_type": "stream",
          "name": "stdout",
          "text": [
            "input number of rows:4\n",
            "input number of columns3\n",
            "[[0, 0, 0], [0, 1, 2], [0, 2, 4], [0, 3, 6]]\n"
          ]
        }
      ]
    },
    {
      "cell_type": "markdown",
      "source": [
        "Write a Python program that accepts a sequence of lines (blank line to terminate) as input and prints the lines as output (all characters in lower case)\n"
      ],
      "metadata": {
        "id": "vNo-dPLyBnFB"
      }
    },
    {
      "cell_type": "code",
      "source": [
        "#infinite loop \n",
        "lines=[]\n",
        "while True:\n",
        "  l=input()\n",
        "  if l:\n",
        "       lines.append(l.upper())\n",
        "  else:\n",
        "    break;\n",
        "\n",
        "for l in lines:\n",
        "  print(1)    "
      ],
      "metadata": {
        "colab": {
          "base_uri": "https://localhost:8080/",
          "height": 415
        },
        "id": "qEKNQ3hQBomS",
        "outputId": "5cce93eb-609e-4057-ad88-e421f946a950"
      },
      "execution_count": 38,
      "outputs": [
        {
          "name": "stdout",
          "output_type": "stream",
          "text": [
            "python\n",
            "Python\n"
          ]
        },
        {
          "output_type": "error",
          "ename": "KeyboardInterrupt",
          "evalue": "ignored",
          "traceback": [
            "\u001b[0;31m---------------------------------------------------------------------------\u001b[0m",
            "\u001b[0;31mKeyboardInterrupt\u001b[0m                         Traceback (most recent call last)",
            "\u001b[0;32m<ipython-input-38-10355fccf7cf>\u001b[0m in \u001b[0;36m<module>\u001b[0;34m\u001b[0m\n\u001b[1;32m      1\u001b[0m \u001b[0mlines\u001b[0m\u001b[0;34m=\u001b[0m\u001b[0;34m[\u001b[0m\u001b[0;34m]\u001b[0m\u001b[0;34m\u001b[0m\u001b[0;34m\u001b[0m\u001b[0m\n\u001b[1;32m      2\u001b[0m \u001b[0;32mwhile\u001b[0m \u001b[0;32mTrue\u001b[0m\u001b[0;34m:\u001b[0m\u001b[0;34m\u001b[0m\u001b[0;34m\u001b[0m\u001b[0m\n\u001b[0;32m----> 3\u001b[0;31m   \u001b[0ml\u001b[0m\u001b[0;34m=\u001b[0m\u001b[0minput\u001b[0m\u001b[0;34m(\u001b[0m\u001b[0;34m)\u001b[0m\u001b[0;34m\u001b[0m\u001b[0;34m\u001b[0m\u001b[0m\n\u001b[0m\u001b[1;32m      4\u001b[0m   \u001b[0;32mif\u001b[0m \u001b[0ml\u001b[0m\u001b[0;34m:\u001b[0m\u001b[0;34m\u001b[0m\u001b[0;34m\u001b[0m\u001b[0m\n\u001b[1;32m      5\u001b[0m        \u001b[0mlines\u001b[0m\u001b[0;34m.\u001b[0m\u001b[0mappend\u001b[0m\u001b[0;34m(\u001b[0m\u001b[0ml\u001b[0m\u001b[0;34m.\u001b[0m\u001b[0mupper\u001b[0m\u001b[0;34m(\u001b[0m\u001b[0;34m)\u001b[0m\u001b[0;34m)\u001b[0m\u001b[0;34m\u001b[0m\u001b[0;34m\u001b[0m\u001b[0m\n",
            "\u001b[0;32m/usr/local/lib/python3.7/dist-packages/ipykernel/kernelbase.py\u001b[0m in \u001b[0;36mraw_input\u001b[0;34m(self, prompt)\u001b[0m\n\u001b[1;32m    861\u001b[0m             \u001b[0mself\u001b[0m\u001b[0;34m.\u001b[0m\u001b[0m_parent_ident\u001b[0m\u001b[0;34m,\u001b[0m\u001b[0;34m\u001b[0m\u001b[0;34m\u001b[0m\u001b[0m\n\u001b[1;32m    862\u001b[0m             \u001b[0mself\u001b[0m\u001b[0;34m.\u001b[0m\u001b[0m_parent_header\u001b[0m\u001b[0;34m,\u001b[0m\u001b[0;34m\u001b[0m\u001b[0;34m\u001b[0m\u001b[0m\n\u001b[0;32m--> 863\u001b[0;31m             \u001b[0mpassword\u001b[0m\u001b[0;34m=\u001b[0m\u001b[0;32mFalse\u001b[0m\u001b[0;34m,\u001b[0m\u001b[0;34m\u001b[0m\u001b[0;34m\u001b[0m\u001b[0m\n\u001b[0m\u001b[1;32m    864\u001b[0m         )\n\u001b[1;32m    865\u001b[0m \u001b[0;34m\u001b[0m\u001b[0m\n",
            "\u001b[0;32m/usr/local/lib/python3.7/dist-packages/ipykernel/kernelbase.py\u001b[0m in \u001b[0;36m_input_request\u001b[0;34m(self, prompt, ident, parent, password)\u001b[0m\n\u001b[1;32m    902\u001b[0m             \u001b[0;32mexcept\u001b[0m \u001b[0mKeyboardInterrupt\u001b[0m\u001b[0;34m:\u001b[0m\u001b[0;34m\u001b[0m\u001b[0;34m\u001b[0m\u001b[0m\n\u001b[1;32m    903\u001b[0m                 \u001b[0;31m# re-raise KeyboardInterrupt, to truncate traceback\u001b[0m\u001b[0;34m\u001b[0m\u001b[0;34m\u001b[0m\u001b[0;34m\u001b[0m\u001b[0m\n\u001b[0;32m--> 904\u001b[0;31m                 \u001b[0;32mraise\u001b[0m \u001b[0mKeyboardInterrupt\u001b[0m\u001b[0;34m(\u001b[0m\u001b[0;34m\"Interrupted by user\"\u001b[0m\u001b[0;34m)\u001b[0m \u001b[0;32mfrom\u001b[0m \u001b[0;32mNone\u001b[0m\u001b[0;34m\u001b[0m\u001b[0;34m\u001b[0m\u001b[0m\n\u001b[0m\u001b[1;32m    905\u001b[0m             \u001b[0;32mexcept\u001b[0m \u001b[0mException\u001b[0m \u001b[0;32mas\u001b[0m \u001b[0me\u001b[0m\u001b[0;34m:\u001b[0m\u001b[0;34m\u001b[0m\u001b[0;34m\u001b[0m\u001b[0m\n\u001b[1;32m    906\u001b[0m                 \u001b[0mself\u001b[0m\u001b[0;34m.\u001b[0m\u001b[0mlog\u001b[0m\u001b[0;34m.\u001b[0m\u001b[0mwarning\u001b[0m\u001b[0;34m(\u001b[0m\u001b[0;34m\"Invalid Message:\"\u001b[0m\u001b[0;34m,\u001b[0m \u001b[0mexc_info\u001b[0m\u001b[0;34m=\u001b[0m\u001b[0;32mTrue\u001b[0m\u001b[0;34m)\u001b[0m\u001b[0;34m\u001b[0m\u001b[0;34m\u001b[0m\u001b[0m\n",
            "\u001b[0;31mKeyboardInterrupt\u001b[0m: Interrupted by user"
          ]
        }
      ]
    },
    {
      "cell_type": "markdown",
      "source": [
        " Write a Python program which accepts a sequence of comma separated 4 digit binary numbers as its input and print the numbers that are divisible by 5 in a comma separated sequence \n",
        " Sample Data : 0100,0011,1010,1001,1100,1001\n",
        "Expected Output : 1010"
      ],
      "metadata": {
        "id": "0jMXYir3CdOY"
      }
    },
    {
      "cell_type": "code",
      "source": [
        "# according to the question it will take only the multiple of 5 \n",
        "items=[]\n",
        "num= [x for x in input().split(',')]\n",
        "for p in num:\n",
        "  x=int(p,2)\n",
        "  if not x%5:\n",
        "    items.append(p)\n",
        "print('',join(items))"
      ],
      "metadata": {
        "colab": {
          "base_uri": "https://localhost:8080/",
          "height": 218
        },
        "id": "Gx-a0q5LCltg",
        "outputId": "8de32d12-856b-4006-9a84-a0bc77585acd"
      },
      "execution_count": 40,
      "outputs": [
        {
          "name": "stdout",
          "output_type": "stream",
          "text": [
            "1001\n"
          ]
        },
        {
          "output_type": "error",
          "ename": "NameError",
          "evalue": "ignored",
          "traceback": [
            "\u001b[0;31m---------------------------------------------------------------------------\u001b[0m",
            "\u001b[0;31mNameError\u001b[0m                                 Traceback (most recent call last)",
            "\u001b[0;32m<ipython-input-40-636f2c631231>\u001b[0m in \u001b[0;36m<module>\u001b[0;34m\u001b[0m\n\u001b[1;32m      5\u001b[0m   \u001b[0;32mif\u001b[0m \u001b[0;32mnot\u001b[0m \u001b[0mx\u001b[0m\u001b[0;34m%\u001b[0m\u001b[0;36m5\u001b[0m\u001b[0;34m:\u001b[0m\u001b[0;34m\u001b[0m\u001b[0;34m\u001b[0m\u001b[0m\n\u001b[1;32m      6\u001b[0m     \u001b[0mitems\u001b[0m\u001b[0;34m.\u001b[0m\u001b[0mappend\u001b[0m\u001b[0;34m(\u001b[0m\u001b[0mp\u001b[0m\u001b[0;34m)\u001b[0m\u001b[0;34m\u001b[0m\u001b[0;34m\u001b[0m\u001b[0m\n\u001b[0;32m----> 7\u001b[0;31m \u001b[0mprint\u001b[0m\u001b[0;34m(\u001b[0m\u001b[0;34m''\u001b[0m\u001b[0;34m,\u001b[0m\u001b[0mjoin\u001b[0m\u001b[0;34m(\u001b[0m\u001b[0mitems\u001b[0m\u001b[0;34m)\u001b[0m\u001b[0;34m)\u001b[0m\u001b[0;34m\u001b[0m\u001b[0;34m\u001b[0m\u001b[0m\n\u001b[0m",
            "\u001b[0;31mNameError\u001b[0m: name 'join' is not defined"
          ]
        }
      ]
    },
    {
      "cell_type": "code",
      "source": [
        "items = []\n",
        "num = [x for x in input().split(',')]\n",
        "for p in num:\n",
        "    x = int(p, 2)\n",
        "    if not x%5:\n",
        "        items.append(p)\n",
        "print(','.join(items))\n"
      ],
      "metadata": {
        "id": "DoHlk2VqDSsW"
      },
      "execution_count": null,
      "outputs": []
    },
    {
      "cell_type": "markdown",
      "source": [
        "Write a Python program that accepts a string and calculate the number of digits and letters.\n",
        "\n"
      ],
      "metadata": {
        "id": "LTHlMMndDvQn"
      }
    },
    {
      "cell_type": "code",
      "source": [
        "s= input(\"input a string\")\n",
        "d=l=0\n",
        "for c in s:\n",
        "  if c.isdigit():\n",
        "    d=d+1\n",
        "  elif c.isalpha():\n",
        "    l=l+1\n",
        "  else:\n",
        "    pass\n",
        "print(\"letters\",l) \n",
        "print(\"digits\",d) \n"
      ],
      "metadata": {
        "colab": {
          "base_uri": "https://localhost:8080/"
        },
        "id": "p0eAKkdJDwEN",
        "outputId": "8eeff4b6-a3c2-400d-e253-3db9d6c23bed"
      },
      "execution_count": 45,
      "outputs": [
        {
          "output_type": "stream",
          "name": "stdout",
          "text": [
            "input a stringw3 resource\n",
            "letters 9\n",
            "digits 1\n"
          ]
        }
      ]
    },
    {
      "cell_type": "markdown",
      "source": [
        "Write a Python program to check the validity of password input by users. Go to the editor\n",
        "Validation :\n",
        "\n",
        "At least 1 letter between [a-z] and 1 letter between [A-Z].\n",
        "At least 1 number between [0-9].\n",
        "At least 1 character from [$#@].\n",
        "Minimum length 6 characters.\n",
        "Maximum length 16 characters.\n"
      ],
      "metadata": {
        "id": "xyEnc2wgETyH"
      }
    },
    {
      "cell_type": "code",
      "source": [
        "import re\n",
        "p=input(\"input your password\")\n",
        "x=True\n",
        "while x:\n",
        "  if(len(p)<6 or len(p)>12):\n",
        "    break\n",
        "  elif not re.search(\"[a-z]\",p):\n",
        "    break\n",
        "  elif not re.search(\"[0-9]\",p):\n",
        "    break\n",
        "  elif not re.search(\"[A-Z]\",p):\n",
        "    break\n",
        "  elif not re.search(\"[$#@]\",p):\n",
        "    break\n",
        "  elif re.search(\"\\s\",p):\n",
        "    break\n",
        "  else:\n",
        "    print(\"valid password\")\n",
        "    x=False\n",
        "    break\n",
        "\n",
        "if x:\n",
        "   print(\"not a valid password \")     \n",
        "\n",
        "\n"
      ],
      "metadata": {
        "colab": {
          "base_uri": "https://localhost:8080/"
        },
        "id": "wKASRbKBEVPf",
        "outputId": "c63e4098-020b-4d29-b2d9-38be9bb56f5f"
      },
      "execution_count": 47,
      "outputs": [
        {
          "output_type": "stream",
          "name": "stdout",
          "text": [
            "input your passwordSummer@69\n",
            "valid password\n"
          ]
        }
      ]
    }
  ]
}